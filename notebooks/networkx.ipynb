{
 "cells": [
  {
   "cell_type": "code",
   "execution_count": 6,
   "id": "7980cddc",
   "metadata": {},
   "outputs": [],
   "source": [
    "import rdflib\n",
    "import networkx as nx\n",
    "import numpy as np\n",
    "import matplotlib.pyplot as plt\n",
    "\n",
    "__author__ = \"James Wilsenach\""
   ]
  },
  {
   "cell_type": "code",
   "execution_count": null,
   "id": "8dc84028",
   "metadata": {},
   "outputs": [],
   "source": [
    "# Load RDF Graph\n",
    "g = rdflib.Graph()\n",
    "g.parse(\"huggingface_10.ttl\", format=\"turtle\")  # Replace with your Turtle file"
   ]
  },
  {
   "cell_type": "code",
   "execution_count": null,
   "id": "6dd4e38e",
   "metadata": {},
   "outputs": [],
   "source": [
    "# Map predicates to unique integer values\n",
    "predicate_map = {p: i for i, p in enumerate(set(g.predicates()))}\n",
    "\n",
    "\n",
    "inverse_predicate_map = {v: k for k, v in predicate_map.items()}\n",
    "creatorid = [predicate_map[k] for k in predicate_map if k if 'creator' in str(k)][0]\n",
    "nameid = [predicate_map[k] for k in predicate_map if k if 'name' in str(k)][0]\n",
    "keywordid = [predicate_map[k] for k in predicate_map if k if 'keyword' in str(k)][0]\n",
    "print(creatorid)"
   ]
  },
  {
   "cell_type": "code",
   "execution_count": null,
   "id": "5942b820",
   "metadata": {},
   "outputs": [],
   "source": [
    "# Create a directed graph\n",
    "G = nx.DiGraph()\n",
    "creators = {}\n",
    "\n",
    "creatornames = {}\n",
    "# Add edges with integer labels\n",
    "for subj, pred, obj in g:\n",
    "    if predicate_map[pred] == nameid:\n",
    "        creatornames[subj] = obj\n",
    "\n",
    "# Add edges with integer labels\n",
    "for subj, pred, obj in g:\n",
    "    if predicate_map[pred] in [creatorid]:\n",
    "        # print(predicate_map[pred])\n",
    "        G.add_edge(str(creatornames[subj]), str(creatornames[obj]), label='creat')\n",
    "        # print(pred)\n",
    "    elif predicate_map[pred] in [keywordid]:\n",
    "        G.add_edge(str(creatornames[subj]), str(obj), label='key')"
   ]
  },
  {
   "cell_type": "code",
   "execution_count": null,
   "id": "814b49e8",
   "metadata": {},
   "outputs": [],
   "source": [
    "# Convert to an undirected simple graph (ignoring multiple edges and directions)\n",
    "G_simple = nx.Graph(G)\n",
    "\n",
    "# Check if the simple graph is connected\n",
    "is_connected =  nx.is_connected(G_simple)\n",
    "print(\"The induced simple graph is connected. Proceeding with visualization.\")"
   ]
  },
  {
   "cell_type": "code",
   "execution_count": null,
   "id": "306a35b7",
   "metadata": {},
   "outputs": [],
   "source": [
    "# Layout for visualization\n",
    "pos = nx.spring_layout(G)  \n",
    "\n",
    "plt.figure(figsize=(12, 8))\n",
    "\n",
    "# Draw nodes\n",
    "nx.draw(G, pos, with_labels=True, node_color='skyblue', node_size=1000, \n",
    "        font_size=10, font_color='black', edge_color='gray', width=1, alpha=0.8)\n",
    "\n",
    "# Draw edge labels (relationship type integers)\n",
    "edge_labels = {(u, v): d['label'] for u, v, d in G.edges(data=True)}\n",
    "nx.draw_networkx_edge_labels(G, pos, edge_labels=edge_labels, font_color='red', font_size=10)\n",
    "\n",
    "plt.title(\"RDF Graph Adjacency Matrix Visualization\")\n",
    "plt.show()"
   ]
  },
  {
   "cell_type": "code",
   "execution_count": null,
   "id": "524f9d55",
   "metadata": {},
   "outputs": [],
   "source": [
    "# Convert to adjacency matrix\n",
    "nodes = list(G.nodes())\n",
    "adj_matrix = np.zeros((len(nodes), len(nodes)), dtype=int)\n",
    "\n",
    "for i, src in enumerate(nodes):\n",
    "    for j, dst in enumerate(nodes):\n",
    "        if G.has_edge(src, dst):\n",
    "            adj_matrix[i, j] = G[src][dst]['label']\n",
    "\n",
    "# print(\"\\nAdjacency Matrix:\\n\", adj_matrix)"
   ]
  }
 ],
 "metadata": {
  "kernelspec": {
   "display_name": "Python 3 (ipykernel)",
   "language": "python",
   "name": "python3"
  },
  "language_info": {
   "codemirror_mode": {
    "name": "ipython",
    "version": 3
   },
   "file_extension": ".py",
   "mimetype": "text/x-python",
   "name": "python",
   "nbconvert_exporter": "python",
   "pygments_lexer": "ipython3",
   "version": "3.10.14"
  }
 },
 "nbformat": 4,
 "nbformat_minor": 5
}
